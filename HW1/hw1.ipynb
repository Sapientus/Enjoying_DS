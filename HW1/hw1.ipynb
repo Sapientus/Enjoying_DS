{
 "cells": [
  {
   "cell_type": "markdown",
   "id": "1555dd58",
   "metadata": {},
   "source": [
    "# Homework 1\n",
    "\n",
    "##### 1. Створіть одновимірний масив (вектор) з першими 10-ма натуральними числами та виведіть його значення."
   ]
  },
  {
   "cell_type": "code",
   "execution_count": 2,
   "id": "ac9383ce",
   "metadata": {},
   "outputs": [
    {
     "name": "stdout",
     "output_type": "stream",
     "text": [
      "[ 0  1  2  3  4  5  6  7  8  9 10]\n"
     ]
    }
   ],
   "source": [
    "import numpy as np\n",
    "a=np.arange(11)\n",
    "print(a)"
   ]
  },
  {
   "cell_type": "markdown",
   "id": "d656c054",
   "metadata": {},
   "source": [
    "##### 2. Створіть двовимірний масив (матрицю) розміром 3x3, заповніть його нулями та виведіть його значення."
   ]
  },
  {
   "cell_type": "code",
   "execution_count": 3,
   "id": "dd3d1150",
   "metadata": {},
   "outputs": [
    {
     "name": "stdout",
     "output_type": "stream",
     "text": [
      "[[0 0 0]\n",
      " [0 0 0]\n",
      " [0 0 0]]\n"
     ]
    }
   ],
   "source": [
    "m = np.zeros((3, 3), dtype=\"u4\")\n",
    "print(m)"
   ]
  },
  {
   "cell_type": "markdown",
   "id": "74a78eb5",
   "metadata": {},
   "source": [
    "##### 3. Створіть масив розміром 5x5, заповніть його випадковими цілими числами в діапазоні від 1 до 10 та виведіть його значення."
   ]
  },
  {
   "cell_type": "code",
   "execution_count": 4,
   "id": "11d6c90a",
   "metadata": {},
   "outputs": [
    {
     "name": "stdout",
     "output_type": "stream",
     "text": [
      "[[5 3 6 7 2]\n",
      " [7 1 7 7 1]\n",
      " [7 3 7 3 9]\n",
      " [2 2 2 2 2]\n",
      " [1 1 5 7 4]]\n"
     ]
    }
   ],
   "source": [
    "m=np.random.randint(1, 10, (5, 5))\n",
    "print(m)"
   ]
  },
  {
   "cell_type": "markdown",
   "id": "f81982ed",
   "metadata": {},
   "source": [
    "##### 4. Створіть масив розміром 4x4, заповніть його випадковими дійсними числами в діапазоні від 0 до 1 та виведіть його значення."
   ]
  },
  {
   "cell_type": "code",
   "execution_count": 6,
   "id": "cdc5eabc",
   "metadata": {},
   "outputs": [
    {
     "name": "stdout",
     "output_type": "stream",
     "text": [
      "[[0.51915409 0.20542641 0.5003035  0.85948738]\n",
      " [0.8375046  0.33296861 0.50725707 0.6242107 ]\n",
      " [0.11680369 0.48456532 0.80158879 0.09285706]\n",
      " [0.72958408 0.13485616 0.29698361 0.89603164]]\n"
     ]
    }
   ],
   "source": [
    "m=np.random.random((4, 4))\n",
    "print(m)"
   ]
  },
  {
   "cell_type": "markdown",
   "id": "5cecce82",
   "metadata": {},
   "source": [
    "##### 5. Створіть два одновимірних масиви розміром 5, заповніть їх випадковими цілими числами в діапазоні від 1 до 10 та виконайте на них поелементні операції додавання, віднімання та множення."
   ]
  },
  {
   "cell_type": "code",
   "execution_count": 74,
   "id": "65515262",
   "metadata": {},
   "outputs": [
    {
     "name": "stdout",
     "output_type": "stream",
     "text": [
      "The first vector: [8 6 4 3 6]\n",
      "The second vector: [2 2 5 9 1]\n",
      "Sum: [10  8  9 12  7]\n",
      "Subtraction: [ 6  4 -1 -6  5]\n",
      "Product: [16 12 20 27  6]\n"
     ]
    }
   ],
   "source": [
    "a=np.random.randint(1, 10, 5)\n",
    "b = np.random.randint(1, 10, 5)\n",
    "print(f'The first vector: {a}')\n",
    "print(f'The second vector: {b}')\n",
    "print(f'Sum: {a+b}')\n",
    "print(f'Subtraction: {a-b}')\n",
    "print(f'Product: {a*b}')"
   ]
  },
  {
   "cell_type": "markdown",
   "id": "ba99c7a0",
   "metadata": {},
   "source": [
    "##### 6. Створіть два вектори розміром 7, заповніть довільними числами та знайдіть їх скалярний добуток."
   ]
  },
  {
   "cell_type": "code",
   "execution_count": 55,
   "id": "1555c986",
   "metadata": {},
   "outputs": [
    {
     "name": "stdout",
     "output_type": "stream",
     "text": [
      "The first vctor: [3 8 7 5 5 3 6]\n",
      "The second vector: [7 3 1 8 4 8 1]\n",
      "Scalar product: 142\n"
     ]
    }
   ],
   "source": [
    "a = np.random.randint(1, 10, 7)\n",
    "b = np.random.randint(1, 10, 7)\n",
    "print(f\"The first vector: {a}\")\n",
    "print(f\"The second vector: {b}\")\n",
    "print(f\"Scalar product: {np.dot(a, b)}\")"
   ]
  },
  {
   "cell_type": "markdown",
   "id": "b62ccf01",
   "metadata": {},
   "source": [
    "##### 7. Створіть дві матриці розміром 2x2 та 2x3, заповніть їх випадковими цілими числами в діапазоні від 1 до 10 та перемножте їх між собою."
   ]
  },
  {
   "cell_type": "code",
   "execution_count": 76,
   "id": "76780b38",
   "metadata": {},
   "outputs": [
    {
     "name": "stdout",
     "output_type": "stream",
     "text": [
      "The first matrix:\n",
      "[[8 6]\n",
      " [1 9]]\n",
      "The second matrix:\n",
      "[[5 1 1]\n",
      " [7 3 2]]\n",
      "Product of two matrixes:\n",
      "[[82 26 20]\n",
      " [68 28 19]]\n"
     ]
    }
   ],
   "source": [
    "a=np.random.randint(1, 10, (2, 2))\n",
    "b = np.random.randint(1, 10, (2, 3))\n",
    "print(f\"The first matrix:\\n{a}\")\n",
    "print(f\"The second matrix:\\n{b}\")\n",
    "print(f'Product of two matrixes:\\n{np.dot(a, b)}')"
   ]
  },
  {
   "cell_type": "markdown",
   "id": "b05c4f76",
   "metadata": {},
   "source": [
    "##### 8. Створіть матрицю розміром 3x3, заповніть її випадковими цілими числами в діапазоні від 1 до 10 та знайдіть її обернену матрицю."
   ]
  },
  {
   "cell_type": "code",
   "execution_count": 59,
   "id": "178db038",
   "metadata": {},
   "outputs": [
    {
     "name": "stdout",
     "output_type": "stream",
     "text": [
      "Original matrix:\n",
      "[[6 3 1]\n",
      " [5 6 3]\n",
      " [7 5 1]]\n",
      "Inverse matrix:\n",
      "[[ 0.39130435 -0.08695652 -0.13043478]\n",
      " [-0.69565217  0.04347826  0.56521739]\n",
      " [ 0.73913043  0.39130435 -0.91304348]]\n"
     ]
    }
   ],
   "source": [
    "a = np.random.randint(1, 10, (3, 3))\n",
    "a_inv = np.linalg.inv(a)\n",
    "print(f'Original matrix:\\n{a}')\n",
    "print(f'Inverse matrix:\\n{a_inv}')"
   ]
  },
  {
   "cell_type": "markdown",
   "id": "73b5615d",
   "metadata": {},
   "source": [
    "##### 9. Створіть матрицю розміром 4x4, заповніть її випадковими дійсними числами в діапазоні від 0 до 1 та транспонуйте її."
   ]
  },
  {
   "cell_type": "code",
   "execution_count": 60,
   "id": "ddf460ba",
   "metadata": {},
   "outputs": [
    {
     "name": "stdout",
     "output_type": "stream",
     "text": [
      "Original matrix:\n",
      "[[5 4 8 7]\n",
      " [0 8 7 5]\n",
      " [1 6 8 8]\n",
      " [2 1 9 3]]\n",
      "Transponed matrix:\n",
      "[[5 0 1 2]\n",
      " [4 8 6 1]\n",
      " [8 7 8 9]\n",
      " [7 5 8 3]]\n"
     ]
    }
   ],
   "source": [
    "a = np.random.randint(0, 10, (4, 4))\n",
    "print(f'Original matrix:\\n{a}')\n",
    "print(f\"Transponed matrix:\\n{a.T}\")"
   ]
  },
  {
   "cell_type": "markdown",
   "id": "7cd3a4c8",
   "metadata": {},
   "source": [
    "##### 10. Створіть матрицю розміром 3x4 та вектор розміром 4, заповніть їх випадковими цілими числами в діапазоні від 1 до 10 та перемножте матрицю на вектор."
   ]
  },
  {
   "cell_type": "code",
   "execution_count": 77,
   "id": "dfd1e821",
   "metadata": {},
   "outputs": [
    {
     "name": "stdout",
     "output_type": "stream",
     "text": [
      "Matrix:\n",
      "[[6 2 2 9]\n",
      " [7 7 2 4]\n",
      " [6 4 6 3]\n",
      " [3 8 6 3]]\n",
      "Vector: [9 9 3 6]\n",
      "Product of vector and matrix:\n",
      "[132 156 126 135]\n"
     ]
    }
   ],
   "source": [
    "a = np.random.randint(1, 10, (4, 4))\n",
    "b = np.random.randint(1, 10, 4)\n",
    "print(f'Matrix:\\n{a}')\n",
    "print(f'Vector: {b}')\n",
    "print(f'Product of vector and matrix:\\n{np.dot(a, b)}')"
   ]
  },
  {
   "cell_type": "markdown",
   "id": "f3b98950",
   "metadata": {},
   "source": [
    "##### 11. Створіть матрицю розміром 2x3 та вектор розміром 3, заповніть їх випадковими дійсними числами в діапазоні від 0 до 1 та перемножте матрицю на вектор."
   ]
  },
  {
   "cell_type": "code",
   "execution_count": 78,
   "id": "ef50e25a",
   "metadata": {},
   "outputs": [
    {
     "name": "stdout",
     "output_type": "stream",
     "text": [
      "Matrix:\n",
      "[[0.15285985 0.73803567 0.39709698]\n",
      " [0.95439461 0.34923437 0.40720502]]\n",
      "Vector: [0.03680728 0.60531848 0.35976056]\n",
      "Product of vector and matrix:\n",
      "[0.59523282 0.393023  ]\n"
     ]
    }
   ],
   "source": [
    "a = np.random.random((2, 3))\n",
    "b = np.random.random((3,))\n",
    "print(f\"Matrix:\\n{a}\")\n",
    "print(f\"Vector: {b}\")\n",
    "print(f\"Product of vector and matrix:\\n{np.dot(a, b)}\")"
   ]
  },
  {
   "cell_type": "markdown",
   "id": "dd02fac0",
   "metadata": {},
   "source": [
    "##### 12. Створіть дві матриці розміром 2x2, заповніть їх випадковими цілими числами в діапазоні від 1 до 10 та виконайте їхнє поелементне множення."
   ]
  },
  {
   "cell_type": "code",
   "execution_count": 65,
   "id": "b91db66d",
   "metadata": {},
   "outputs": [
    {
     "name": "stdout",
     "output_type": "stream",
     "text": [
      "The first matrix:\n",
      "[[6 3]\n",
      " [4 8]]\n",
      "The second matrix:\n",
      "[[2 3]\n",
      " [1 4]]\n",
      "Product of two matrixes by elemnts:\n",
      "[[12  9]\n",
      " [ 4 32]]\n"
     ]
    }
   ],
   "source": [
    "a = np.random.randint(1, 10, (2, 2))\n",
    "b = np.random.randint(1, 10, (2, 2))\n",
    "print(f\"The first matrix:\\n{a}\")\n",
    "print(f\"The second matrix:\\n{b}\")\n",
    "print(f\"Product of two matrixes by elements:\\n{a*b}\")"
   ]
  },
  {
   "cell_type": "markdown",
   "id": "690079e8",
   "metadata": {},
   "source": [
    "##### 13. Створіть дві матриці розміром 2x2, заповніть їх випадковими цілими числами в діапазоні від 1 до 10 та знайдіть їх добуток."
   ]
  },
  {
   "cell_type": "code",
   "execution_count": 66,
   "id": "9d5f166f",
   "metadata": {},
   "outputs": [
    {
     "name": "stdout",
     "output_type": "stream",
     "text": [
      "The first matrix:\n",
      "[[7 1]\n",
      " [3 1]]\n",
      "The second matrix:\n",
      "[[2 3]\n",
      " [6 8]]\n",
      "Product of two matrixes by elements:\n",
      "[[20 29]\n",
      " [12 17]]\n"
     ]
    }
   ],
   "source": [
    "a = np.random.randint(1, 10, (2, 2))\n",
    "b = np.random.randint(1, 10, (2, 2))\n",
    "print(f\"The first matrix:\\n{a}\")\n",
    "print(f\"The second matrix:\\n{b}\")\n",
    "print(f\"Product of two matrixes by elements:\\n{np.dot(a, b)}\")"
   ]
  },
  {
   "cell_type": "markdown",
   "id": "33a28623",
   "metadata": {},
   "source": [
    "##### 14. Створіть матрицю розміром 5x5, заповніть її випадковими цілими числами в діапазоні від 1 до 100 та знайдіть суму елементів матриці."
   ]
  },
  {
   "cell_type": "code",
   "execution_count": 67,
   "id": "12e71ebf",
   "metadata": {},
   "outputs": [
    {
     "name": "stdout",
     "output_type": "stream",
     "text": [
      "The matrix:\n",
      "[[79 57 62 31 43]\n",
      " [62 67 37 14 69]\n",
      " [58 49 37 73 70]\n",
      " [ 5 71 70 19 97]\n",
      " [ 1 80 97  5 95]]\n",
      "Sum of matrix elements:\n",
      "1348\n"
     ]
    }
   ],
   "source": [
    "a = np.random.randint(1, 100, (5, 5))\n",
    "print(f'The matrix:\\n{a}')\n",
    "print(f'Sum of matrix elements:\\n{a.sum()}')"
   ]
  },
  {
   "cell_type": "markdown",
   "id": "2ca2199d",
   "metadata": {},
   "source": [
    "##### 15. Створіть дві матриці розміром 4x4, заповніть їх випадковими цілими числами в діапазоні від 1 до 10 та знайдіть їхню різницю."
   ]
  },
  {
   "cell_type": "code",
   "execution_count": 68,
   "id": "00fe2c36",
   "metadata": {},
   "outputs": [
    {
     "name": "stdout",
     "output_type": "stream",
     "text": [
      "The first matrix:\n",
      "[[5 9 4 9]\n",
      " [3 3 3 7]\n",
      " [3 2 9 6]\n",
      " [4 9 8 1]]\n",
      "The second matrix:\n",
      "[[1 8 7 7]\n",
      " [4 5 8 2]\n",
      " [6 9 5 1]\n",
      " [1 6 8 5]]\n",
      "Subtraction of two matrixes:\n",
      "[[ 4  1 -3  2]\n",
      " [-1 -2 -5  5]\n",
      " [-3 -7  4  5]\n",
      " [ 3  3  0 -4]]\n"
     ]
    }
   ],
   "source": [
    "a = np.random.randint(1, 10, (4, 4))\n",
    "b = np.random.randint(1, 10, (4, 4))\n",
    "print(f\"The first matrix:\\n{a}\")\n",
    "print(f\"The second matrix:\\n{b}\")\n",
    "print(f\"Subtraction of two matrixes:\\n{a-b}\")"
   ]
  },
  {
   "cell_type": "markdown",
   "id": "04f736c3",
   "metadata": {},
   "source": [
    "##### 16. Створіть матрицю розміром 3x3, заповніть її випадковими дійсними числами в діапазоні від 0 до 1 та знайдіть вектор-стовпчик, що містить суму елементів кожного рядка матриці."
   ]
  },
  {
   "cell_type": "code",
   "execution_count": 79,
   "metadata": {},
   "outputs": [
    {
     "name": "stdout",
     "output_type": "stream",
     "text": [
      "The matrix:\n",
      "[[0.33655652 0.87887606 0.34046419]\n",
      " [0.03704016 0.92253464 0.93913747]\n",
      " [0.75601941 0.45929929 0.58590833]]\n",
      "Vertical vector, built from sums:\n",
      "[[1.55589677]\n",
      " [1.89871227]\n",
      " [1.80122704]]\n"
     ]
    }
   ],
   "source": [
    "a = np.random.random((3, 3))\n",
    "b=[]\n",
    "for i in range(3):\n",
    "    b.append(a[i].sum())\n",
    "print(f'The matrix:\\n{a}')\n",
    "print(f\"Vertical vector, built from sums:\\n{np.array(b).reshape(-1, 1)}\")"
   ]
  },
  {
   "cell_type": "markdown",
   "id": "1bea68dc",
   "metadata": {},
   "source": [
    "##### 17. Створіть матрицю розміром 3x4 з довільними цілими числами і створінь матрицю з квадратами цих чисел."
   ]
  },
  {
   "cell_type": "code",
   "execution_count": 71,
   "id": "b87f19ff",
   "metadata": {},
   "outputs": [
    {
     "name": "stdout",
     "output_type": "stream",
     "text": [
      "The matrix;\n",
      "[[1 7 8 5]\n",
      " [8 2 5 5]\n",
      " [7 2 6 2]]\n",
      "The square of that matrix:\n",
      "[[ 1 49 64 25]\n",
      " [64  4 25 25]\n",
      " [49  4 36  4]]\n"
     ]
    }
   ],
   "source": [
    "a=np.random.randint(1, 10, (3, 4))\n",
    "print(f'The matrix;\\n{a}')\n",
    "print(f'The square of that matrix:\\n{a**2}')"
   ]
  },
  {
   "cell_type": "markdown",
   "id": "8ab7f29b",
   "metadata": {},
   "source": [
    "##### 18. Створіть вектор розміром 4, заповніть його випадковими цілими числами в діапазоні від 1 до 50 та знайдіть вектор з квадратними коренями цих чисел."
   ]
  },
  {
   "cell_type": "code",
   "execution_count": 72,
   "id": "7e189637",
   "metadata": {},
   "outputs": [
    {
     "name": "stdout",
     "output_type": "stream",
     "text": [
      "The vector:[28 41 38 26]\n",
      "Sqaure root of that vector:\n",
      "[5.29150262 6.40312424 6.164414   5.09901951]\n"
     ]
    }
   ],
   "source": [
    "a=np.random.randint(1, 50, 4)\n",
    "print(f'The vector:{a}')\n",
    "print(f'Sqaure root of that vector:\\n{a**0.5}')"
   ]
  }
 ],
 "metadata": {
  "kernelspec": {
   "display_name": "Python 3 (ipykernel)",
   "language": "python",
   "name": "python3"
  },
  "language_info": {
   "codemirror_mode": {
    "name": "ipython",
    "version": 3
   },
   "file_extension": ".py",
   "mimetype": "text/x-python",
   "name": "python",
   "nbconvert_exporter": "python",
   "pygments_lexer": "ipython3",
   "version": "3.12.2"
  }
 },
 "nbformat": 4,
 "nbformat_minor": 5
}
